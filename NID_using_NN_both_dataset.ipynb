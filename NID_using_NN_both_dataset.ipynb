{
  "nbformat": 4,
  "nbformat_minor": 0,
  "metadata": {
    "colab": {
      "provenance": [],
      "gpuType": "T4"
    },
    "kernelspec": {
      "name": "python3",
      "display_name": "Python 3"
    },
    "language_info": {
      "name": "python"
    },
    "accelerator": "GPU"
  },
  "cells": [
    {
      "cell_type": "code",
      "execution_count": 1,
      "metadata": {
        "id": "DY8ratFkwGcQ"
      },
      "outputs": [],
      "source": [
        "# Import necessary libraries\n",
        "import numpy as np\n",
        "import pandas as pd\n",
        "import torch\n",
        "import torch.nn as nn\n",
        "import torch.optim as optim\n",
        "from torch.utils.data import DataLoader, TensorDataset\n",
        "from sklearn.preprocessing import StandardScaler, LabelEncoder\n",
        "from sklearn.metrics import accuracy_score,f1_score, precision_score, recall_score, confusion_matrix\n",
        "from sklearn.model_selection import train_test_split\n",
        "from urllib.request import urlretrieve\n",
        "from tqdm import tqdm\n",
        "import os\n",
        "import matplotlib.pyplot as plt\n",
        "import seaborn as sns\n"
      ]
    },
    {
      "cell_type": "code",
      "source": [
        "# Download datasets\n",
        "url = \"http://kdd.ics.uci.edu/databases/kddcup99/kddcup.data_10_percent.gz\"  #KDD cup'99 dataset\n",
        "filename = \"kddcup.data_10_percent.gz\"\n",
        "urlretrieve(url, filename)\n",
        "\n",
        "train_url = \"https://github.com/jmnwong/NSL-KDD-Dataset/raw/master/KDDTrain+.txt\" #Train Dataset of NSL-KDD Dataset\n",
        "test_url = \"https://github.com/jmnwong/NSL-KDD-Dataset/raw/master/KDDTest+.txt\"   #Test dataset of NSL-KDD Dataset\n",
        "\n",
        "train_file = \"KDDTrain+.txt\"\n",
        "test_file = \"KDDTest+.txt\"\n",
        "\n",
        "if not os.path.exists(filename):\n",
        "    print(\"Downloading 10% KDD Cup'99 dataset...\")\n",
        "    urlretrieve(train_url, train_file)\n",
        "if not os.path.exists(train_file):\n",
        "    print(\"Downloading training dataset of NSL-KDD...\")\n",
        "    urlretrieve(train_url, train_file)\n",
        "if not os.path.exists(test_file):\n",
        "    print(\"Downloading testing dataset of NSL-KDD...\")\n",
        "    urlretrieve(test_url, test_file)\n",
        "# print('Datasets have been downloaded.')"
      ],
      "metadata": {
        "id": "RE6A_oBuwI-B"
      },
      "execution_count": 4,
      "outputs": []
    },
    {
      "cell_type": "code",
      "source": [
        "class IntrusionDetectionNN(nn.Module):\n",
        "    def __init__(self, input_size):\n",
        "        super(IntrusionDetectionNN, self).__init__()\n",
        "        self.model = nn.Sequential(\n",
        "            nn.Linear(input_size, 64),\n",
        "            nn.ReLU(),\n",
        "            nn.Linear(64, 32),\n",
        "            nn.ReLU(),\n",
        "            nn.Linear(32, 1),\n",
        "            nn.Sigmoid()\n",
        "        )\n",
        "\n",
        "    def forward(self, x):\n",
        "        return self.model(x)"
      ],
      "metadata": {
        "id": "CNiLU-lswdGV"
      },
      "execution_count": 5,
      "outputs": []
    },
    {
      "cell_type": "code",
      "source": [
        "def plot_confusion_matrix(y_true, y_pred, title):\n",
        "    cm = confusion_matrix(y_true, y_pred)\n",
        "    plt.figure(figsize=(5, 4))\n",
        "    sns.heatmap(cm, annot=True, fmt=\"d\", cmap=\"Blues\", xticklabels=[\"Normal\", \"Attack\"], yticklabels=[\"Normal\", \"Attack\"])\n",
        "    plt.xlabel(\"Predicted\")\n",
        "    plt.ylabel(\"Actual\")\n",
        "    plt.title(title)\n",
        "    plt.show()"
      ],
      "metadata": {
        "id": "k5yYhKE2vVe1"
      },
      "execution_count": 6,
      "outputs": []
    },
    {
      "cell_type": "code",
      "source": [
        "def calculateAndDisplayEvaluationMetrics(y_test, y_pred,title):\n",
        "    accuracy = accuracy_score(y_test,y_pred)*100\n",
        "    precision = precision_score(y_test, y_pred)\n",
        "    recall = recall_score(y_test, y_pred)\n",
        "    f1 = f1_score(y_test, y_pred)\n",
        "\n",
        "    print(f\"Model Accuracy: {accuracy:.2f}%\")\n",
        "    print(f\"Precision: {precision:.4f}\")\n",
        "    print(f\"Recall: {recall:.4f}\")\n",
        "    print(f\"F1 Score: {f1:.4f}\")\n",
        "    plot_confusion_matrix(y_test, y_pred, title)"
      ],
      "metadata": {
        "id": "PDsQ4KHsvcV_"
      },
      "execution_count": 7,
      "outputs": []
    },
    {
      "cell_type": "code",
      "source": [
        "# (a) KDD Cup '99\n",
        "\n",
        "#defining columns\n",
        "KDDCup_columns = [\n",
        "    \"duration\", \"protocol_type\", \"service\", \"flag\", \"src_bytes\", \"dst_bytes\",\n",
        "    \"land\", \"wrong_fragment\", \"urgent\", \"hot\", \"num_failed_logins\", \"logged_in\",\n",
        "    \"num_compromised\", \"root_shell\", \"su_attempted\", \"num_root\", \"num_file_creations\",\n",
        "    \"num_shells\", \"num_access_files\", \"num_outbound_cmds\", \"is_host_login\",\n",
        "    \"is_guest_login\", \"count\", \"srv_count\", \"serror_rate\", \"srv_serror_rate\",\n",
        "    \"rerror_rate\", \"srv_rerror_rate\", \"same_srv_rate\", \"diff_srv_rate\",\n",
        "    \"srv_diff_host_rate\", \"dst_host_count\", \"dst_host_srv_count\",\n",
        "    \"dst_host_same_srv_rate\", \"dst_host_diff_srv_rate\", \"dst_host_same_src_port_rate\",\n",
        "    \"dst_host_srv_diff_host_rate\", \"dst_host_serror_rate\", \"dst_host_srv_serror_rate\",\n",
        "    \"dst_host_rerror_rate\", \"dst_host_srv_rerror_rate\", \"label\"\n",
        "]\n",
        "\n",
        "# Loading dataset in dataframe using pandas\n",
        "df = pd.read_csv(filename, names=KDDCup_columns)\n",
        "\n",
        "#Removes duplicate rows(data cleaning)\n",
        "df = df.drop_duplicates()\n",
        "\n",
        "print(df.shape)"
      ],
      "metadata": {
        "colab": {
          "base_uri": "https://localhost:8080/"
        },
        "id": "mBRbdV9zv-ch",
        "outputId": "b7999422-39a5-42f8-b42e-bcb8b882fe52"
      },
      "execution_count": 10,
      "outputs": [
        {
          "output_type": "stream",
          "name": "stdout",
          "text": [
            "(145586, 42)\n"
          ]
        }
      ]
    },
    {
      "cell_type": "code",
      "source": [
        "print(df['label'].value_counts().to_dict())  # Returns all unique labels in the dataset with their count as a\n",
        "#Clearly, we can see that this daataset is very skewed and imbalanced"
      ],
      "metadata": {
        "colab": {
          "base_uri": "https://localhost:8080/"
        },
        "id": "kjJFbSBMykrn",
        "outputId": "ffc8ef02-78c3-4090-94be-e1f5959a8b40"
      },
      "execution_count": 11,
      "outputs": [
        {
          "output_type": "stream",
          "name": "stdout",
          "text": [
            "{'normal.': 87832, 'neptune.': 51820, 'back.': 968, 'teardrop.': 918, 'satan.': 906, 'warezclient.': 893, 'ipsweep.': 651, 'smurf.': 641, 'portsweep.': 416, 'pod.': 206, 'nmap.': 158, 'guess_passwd.': 53, 'buffer_overflow.': 30, 'warezmaster.': 20, 'land.': 19, 'imap.': 12, 'rootkit.': 10, 'loadmodule.': 9, 'ftp_write.': 8, 'multihop.': 7, 'phf.': 4, 'perl.': 3, 'spy.': 2}\n"
          ]
        }
      ]
    },
    {
      "cell_type": "code",
      "source": [
        "#preproccesing data\n",
        "categorical_cols = [\"protocol_type\", \"service\", \"flag\"]\n",
        "encoder = LabelEncoder()\n",
        "for col in categorical_cols:\n",
        "    df[col] = encoder.fit_transform(df[col])\n",
        "\n",
        "# Convert labels to binary: 0 for normal, 1 for attack\n",
        "df[\"label\"] = df[\"label\"].apply(lambda x: 0 if x == \"normal.\" else 1)\n",
        "\n",
        "# Extract features and labels\n",
        "X = df.drop(\"label\", axis=1).values\n",
        "y = df[\"label\"].values\n",
        "\n",
        "# Normalize features\n",
        "scaler = StandardScaler()\n",
        "X = scaler.fit_transform(X)\n",
        "\n",
        "# Split dataset (80% training, 20% testing)\n",
        "X_train, X_test, y_train, y_test = train_test_split(X, y, test_size=0.2, random_state=42)\n"
      ],
      "metadata": {
        "id": "jifvAmKVwRnX"
      },
      "execution_count": 12,
      "outputs": []
    },
    {
      "cell_type": "code",
      "source": [
        "# Initialize model\n",
        "input_size = X_train.shape[1]\n",
        "model = IntrusionDetectionNN(input_size)\n",
        "\n",
        "criterion = nn.BCELoss()  # Binary Cross-Entropy Loss\n",
        "optimizer = optim.Adam(model.parameters(), lr=0.001)"
      ],
      "metadata": {
        "id": "gHcn_2pdw16y"
      },
      "execution_count": 13,
      "outputs": []
    },
    {
      "cell_type": "code",
      "source": [
        "X_train_tensor = torch.tensor(X_train, dtype=torch.float32)\n",
        "y_train_tensor = torch.tensor(y_train, dtype=torch.float32).unsqueeze(1)\n",
        "X_test_tensor = torch.tensor(X_test, dtype=torch.float32)\n",
        "y_test_tensor = torch.tensor(y_test, dtype=torch.float32).unsqueeze(1)\n",
        "\n",
        "# Create DataLoader for batch processing\n",
        "train_dataset = TensorDataset(X_train_tensor, y_train_tensor)\n",
        "train_loader = DataLoader(train_dataset, batch_size=64, shuffle=True)"
      ],
      "metadata": {
        "id": "XqeyVW9zwaP9"
      },
      "execution_count": 14,
      "outputs": []
    },
    {
      "cell_type": "code",
      "source": [
        "epochs = 10\n",
        "for epoch in range(epochs):\n",
        "    total_loss = 0\n",
        "    for batch_X, batch_y in train_loader:\n",
        "        optimizer.zero_grad()\n",
        "        outputs = model(batch_X)\n",
        "        loss = criterion(outputs, batch_y)\n",
        "        loss.backward()\n",
        "        optimizer.step()\n",
        "        total_loss += loss.item()\n",
        "\n",
        "    print(f\"Epoch {epoch+1}/{epochs}, Loss: {total_loss / len(train_loader):.4f}\")"
      ],
      "metadata": {
        "colab": {
          "base_uri": "https://localhost:8080/"
        },
        "id": "nqA_QVBLwfwV",
        "outputId": "eec3f757-2900-4ec4-ea2e-e18a104dbe22"
      },
      "execution_count": 15,
      "outputs": [
        {
          "output_type": "stream",
          "name": "stdout",
          "text": [
            "Epoch 1/10, Loss: 0.0377\n",
            "Epoch 2/10, Loss: 0.0129\n",
            "Epoch 3/10, Loss: 0.0119\n",
            "Epoch 4/10, Loss: 0.0110\n",
            "Epoch 5/10, Loss: 0.0097\n",
            "Epoch 6/10, Loss: 0.0084\n",
            "Epoch 7/10, Loss: 0.0080\n",
            "Epoch 8/10, Loss: 0.0074\n",
            "Epoch 9/10, Loss: 0.0072\n",
            "Epoch 10/10, Loss: 0.0070\n"
          ]
        }
      ]
    },
    {
      "cell_type": "code",
      "source": [
        "# Ensure no gradient calculation\n",
        "torch.no_grad()\n",
        "\n",
        "# Make predictions\n",
        "y_pred = model(X_test_tensor)\n",
        "y_pred_labels = (y_pred >= 0.5).float()\n",
        "\n",
        "# Convert to NumPy arrays\n",
        "y_true_np = y_test_tensor.cpu().numpy()\n",
        "y_pred_np = y_pred_labels.cpu().numpy()\n",
        "\n",
        "# Calculate and display metrics\n",
        "calculateAndDisplayEvaluationMetrics(y_true_np, y_pred_np, \"Confusion Matrix - Neural Network\")"
      ],
      "metadata": {
        "colab": {
          "base_uri": "https://localhost:8080/",
          "height": 479
        },
        "id": "2RFQStFCwo9b",
        "outputId": "d63c4b74-bffe-4f22-d7e1-7cf1966fac4a"
      },
      "execution_count": 17,
      "outputs": [
        {
          "output_type": "stream",
          "name": "stdout",
          "text": [
            "Model Accuracy: 99.79%\n",
            "Precision: 0.9964\n",
            "Recall: 0.9983\n",
            "F1 Score: 0.9973\n"
          ]
        },
        {
          "output_type": "display_data",
          "data": {
            "text/plain": [
              "<Figure size 500x400 with 2 Axes>"
            ],
            "image/png": "[encoded data removed]"
          },
          "metadata": {}
        }
      ]
    },
    {
      "cell_type": "code",
      "source": [
        "#(b) ON the NSL-KDD Dataset\n",
        "KDDNSL_columns = [\n",
        "    \"duration\", \"protocol_type\", \"service\", \"flag\", \"src_bytes\", \"dst_bytes\",\n",
        "    \"land\", \"wrong_fragment\", \"urgent\", \"hot\", \"num_failed_logins\", \"logged_in\",\n",
        "    \"num_compromised\", \"root_shell\", \"su_attempted\", \"num_root\", \"num_file_creations\",\n",
        "    \"num_shells\", \"num_access_files\", \"num_outbound_cmds\", \"is_host_login\",\n",
        "    \"is_guest_login\", \"count\", \"srv_count\", \"serror_rate\", \"srv_serror_rate\",\n",
        "    \"rerror_rate\", \"srv_rerror_rate\", \"same_srv_rate\", \"diff_srv_rate\",\n",
        "    \"srv_diff_host_rate\", \"dst_host_count\", \"dst_host_srv_count\",\n",
        "    \"dst_host_same_srv_rate\", \"dst_host_diff_srv_rate\",\n",
        "    \"dst_host_same_src_port_rate\", \"dst_host_srv_diff_host_rate\",\n",
        "    \"dst_host_serror_rate\", \"dst_host_srv_serror_rate\", \"dst_host_rerror_rate\",\n",
        "    \"dst_host_srv_rerror_rate\", \"class\", \"difficulty\"\n",
        "]\n",
        "\n",
        "train_df = pd.read_csv(train_file, names=KDDNSL_columns, header=None)\n",
        "test_df = pd.read_csv(test_file, names=KDDNSL_columns, header=None)\n",
        "\n",
        "#Dropping the difficulty column as its irrelevant for training\n",
        "train_df.drop(\"difficulty\", axis=1, inplace=True)\n",
        "test_df.drop(\"difficulty\", axis=1, inplace=True)\n",
        "\n",
        "print(train_df['class'].value_counts().to_dict())  # Returns all unique labels in the dataset with their count as a\n",
        "#Clearly, we can see that this daataset is more balanced\n",
        "\n",
        "# Label encode categorical columns(to convert features to numerical values)\n",
        "categorical_cols = [\"protocol_type\", \"service\", \"flag\"]\n",
        "encoder = LabelEncoder()\n",
        "\n",
        "for col in categorical_cols:\n",
        "    train_df[col] = encoder.fit_transform(train_df[col])  # Fit + transform on train\n",
        "    test_df[col] = encoder.transform(test_df[col])  # Transform only on test (NO FIT)\n",
        "\n",
        "# Convert class labels to binary (0 for normal, 1 for attack)\n",
        "train_df[\"class\"] = train_df[\"class\"].apply(lambda x: 0 if x == \"normal\" else 1)\n",
        "test_df[\"class\"] = test_df[\"class\"].apply(lambda x: 0 if x == \"normal\" else 1)\n",
        "\n",
        "# Split features and labels\n",
        "X_train = train_df.drop(\"class\", axis=1).values\n",
        "y_train = train_df[\"class\"].values\n",
        "X_test = test_df.drop(\"class\", axis=1).values\n",
        "y_test = test_df[\"class\"].values\n",
        "\n",
        "# Standardize features\n",
        "scaler = StandardScaler()\n",
        "X_train = scaler.fit_transform(X_train)\n",
        "X_test = scaler.transform(X_test)\n",
        "\n",
        "print(X_train.shape)\n",
        "print(X_test.shape)\n"
      ],
      "metadata": {
        "colab": {
          "base_uri": "https://localhost:8080/"
        },
        "id": "ayhKbi4pw40W",
        "outputId": "bdd56c75-6075-466c-9ae6-7f3d79b3dcc8"
      },
      "execution_count": 18,
      "outputs": [
        {
          "output_type": "stream",
          "name": "stdout",
          "text": [
            "{'normal': 67343, 'neptune': 41214, 'satan': 3633, 'ipsweep': 3599, 'portsweep': 2931, 'smurf': 2646, 'nmap': 1493, 'back': 956, 'teardrop': 892, 'warezclient': 890, 'pod': 201, 'guess_passwd': 53, 'buffer_overflow': 30, 'warezmaster': 20, 'land': 18, 'imap': 11, 'rootkit': 10, 'loadmodule': 9, 'ftp_write': 8, 'multihop': 7, 'phf': 4, 'perl': 3, 'spy': 2}\n",
            "(125973, 41)\n",
            "(22544, 41)\n"
          ]
        }
      ]
    },
    {
      "cell_type": "code",
      "source": [
        "# Initialize model\n",
        "input_size = X_train.shape[1]\n",
        "model = IntrusionDetectionNN(input_size)\n",
        "\n",
        "criterion = nn.BCELoss()  # Binary Cross-Entropy Loss\n",
        "optimizer = optim.Adam(model.parameters(), lr=0.001)"
      ],
      "metadata": {
        "id": "7DZLEc2TyDPK"
      },
      "execution_count": 19,
      "outputs": []
    },
    {
      "cell_type": "code",
      "source": [
        "X_train_tensor = torch.tensor(X_train, dtype=torch.float32)\n",
        "y_train_tensor = torch.tensor(y_train, dtype=torch.float32).unsqueeze(1)\n",
        "X_test_tensor = torch.tensor(X_test, dtype=torch.float32)\n",
        "y_test_tensor = torch.tensor(y_test, dtype=torch.float32).unsqueeze(1)\n",
        "\n",
        "# Create DataLoader for batch processing\n",
        "train_dataset = TensorDataset(X_train_tensor, y_train_tensor)\n",
        "train_loader = DataLoader(train_dataset, batch_size=64, shuffle=True)"
      ],
      "metadata": {
        "id": "XiYJbmcRxH1p"
      },
      "execution_count": 20,
      "outputs": []
    },
    {
      "cell_type": "code",
      "source": [
        "epochs = 10\n",
        "for epoch in range(epochs):\n",
        "    total_loss = 0\n",
        "    for batch_X, batch_y in train_loader:\n",
        "        optimizer.zero_grad()\n",
        "        outputs = model(batch_X)\n",
        "        loss = criterion(outputs, batch_y)\n",
        "        loss.backward()\n",
        "        optimizer.step()\n",
        "        total_loss += loss.item()\n",
        "\n",
        "    print(f\"Epoch {epoch+1}/{epochs}, Loss: {total_loss / len(train_loader):.4f}\")"
      ],
      "metadata": {
        "colab": {
          "base_uri": "https://localhost:8080/"
        },
        "id": "-Sz2k60PziA9",
        "outputId": "79a06e13-1402-4b47-a618-8cf9ef18ae81"
      },
      "execution_count": 22,
      "outputs": [
        {
          "output_type": "stream",
          "name": "stdout",
          "text": [
            "Epoch 1/10, Loss: 0.0615\n",
            "Epoch 2/10, Loss: 0.0274\n",
            "Epoch 3/10, Loss: 0.0231\n",
            "Epoch 4/10, Loss: 0.0213\n",
            "Epoch 5/10, Loss: 0.0188\n",
            "Epoch 6/10, Loss: 0.0176\n",
            "Epoch 7/10, Loss: 0.0175\n",
            "Epoch 8/10, Loss: 0.0162\n",
            "Epoch 9/10, Loss: 0.0160\n",
            "Epoch 10/10, Loss: 0.0153\n"
          ]
        }
      ]
    },
    {
      "cell_type": "code",
      "source": [
        "# Ensure no gradient calculation\n",
        "torch.no_grad()\n",
        "\n",
        "# Make predictions\n",
        "y_pred = model(X_test_tensor)\n",
        "y_pred_labels = (y_pred >= 0.5).float()\n",
        "\n",
        "# Convert to NumPy arrays\n",
        "y_true_np = y_test_tensor.cpu().numpy()\n",
        "y_pred_np = y_pred_labels.cpu().numpy()\n",
        "\n",
        "# Calculate and display metrics\n",
        "calculateAndDisplayEvaluationMetrics(y_true_np, y_pred_np, \"Confusion Matrix - NSL-KDD\")"
      ],
      "metadata": {
        "colab": {
          "base_uri": "https://localhost:8080/",
          "height": 479
        },
        "id": "tSrmhW0PyJl-",
        "outputId": "4d01a5ce-92b1-432e-fd03-fbe534153829"
      },
      "execution_count": 23,
      "outputs": [
        {
          "output_type": "stream",
          "name": "stdout",
          "text": [
            "Model Accuracy: 80.13%\n",
            "Precision: 0.9737\n",
            "Recall: 0.6690\n",
            "F1 Score: 0.7931\n"
          ]
        },
        {
          "output_type": "display_data",
          "data": {
            "text/plain": [
              "<Figure size 500x400 with 2 Axes>"
            ],
            "image/png": "[encoded data removed]"
          },
          "metadata": {}
        }
      ]
    }
  ]
}