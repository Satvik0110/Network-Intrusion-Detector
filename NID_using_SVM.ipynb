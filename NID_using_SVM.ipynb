{
  "cells": [
    {
      "cell_type": "markdown",
      "metadata": {
        "id": "lVEog9vy6MK7"
      },
      "source": [
        "# Network Intrusion Detection Classifier using Support Vector Machine\n",
        "\n",
        "Imports and Data Preparation\n"
      ]
    },
    {
      "cell_type": "markdown",
      "metadata": {},
      "source": [
        "a) NSL-KDD"
      ]
    },
    {
      "cell_type": "code",
      "execution_count": 1,
      "metadata": {
        "id": "985Tz_id5eOm"
      },
      "outputs": [
        {
          "name": "stdout",
          "output_type": "stream",
          "text": [
            "Training set: 100778 samples\n",
            "Validation set: 25195 samples\n",
            "Testing set: 22544 samples\n"
          ]
        }
      ],
      "source": [
        "import numpy as np\n",
        "import pandas as pd\n",
        "from sklearn.preprocessing import StandardScaler, LabelEncoder\n",
        "from sklearn.model_selection import train_test_split\n",
        "from urllib.request import urlretrieve\n",
        "from tqdm import tqdm\n",
        "import os\n",
        "import itertools\n",
        "\n",
        "# URLs for NSL-KDD dataset\n",
        "train_url = \"https://github.com/jmnwong/NSL-KDD-Dataset/raw/master/KDDTrain+.txt\"\n",
        "test_url = \"https://github.com/jmnwong/NSL-KDD-Dataset/raw/master/KDDTest+.txt\"\n",
        "\n",
        "train_file = \"KDDTrain+.txt\"\n",
        "test_file = \"KDDTest+.txt\"\n",
        "\n",
        "if not os.path.exists(train_file):\n",
        "    print(\"Downloading training dataset...\")\n",
        "    urlretrieve(train_url, train_file)\n",
        "if not os.path.exists(test_file):\n",
        "    print(\"Downloading testing dataset...\")\n",
        "    urlretrieve(test_url, test_file)\n",
        "\n",
        "NSL_columns = [\n",
        "    \"duration\", \"protocol_type\", \"service\", \"flag\", \"src_bytes\", \"dst_bytes\",\n",
        "    \"land\", \"wrong_fragment\", \"urgent\", \"hot\", \"num_failed_logins\", \"logged_in\",\n",
        "    \"num_compromised\", \"root_shell\", \"su_attempted\", \"num_root\", \"num_file_creations\",\n",
        "    \"num_shells\", \"num_access_files\", \"num_outbound_cmds\", \"is_host_login\",\n",
        "    \"is_guest_login\", \"count\", \"srv_count\", \"serror_rate\", \"srv_serror_rate\",\n",
        "    \"rerror_rate\", \"srv_rerror_rate\", \"same_srv_rate\", \"diff_srv_rate\",\n",
        "    \"srv_diff_host_rate\", \"dst_host_count\", \"dst_host_srv_count\",\n",
        "    \"dst_host_same_srv_rate\", \"dst_host_diff_srv_rate\",\n",
        "    \"dst_host_same_src_port_rate\", \"dst_host_srv_diff_host_rate\",\n",
        "    \"dst_host_serror_rate\", \"dst_host_srv_serror_rate\", \"dst_host_rerror_rate\",\n",
        "    \"dst_host_srv_rerror_rate\", \"class\", \"difficulty\"\n",
        "]\n",
        "\n",
        "\n",
        "train_df = pd.read_csv(train_file, names=NSL_columns, header=None)\n",
        "test_df = pd.read_csv(test_file, names=NSL_columns, header=None)\n",
        "\n",
        "\n",
        "# Preprocessing data (Label encoding for categorical columns and convert class labels to binary (0 for normal, 1 for attack)]\n",
        "df = pd.concat([train_df, test_df], axis=0)\n",
        "\n",
        "categorical_cols = [\"protocol_type\", \"service\", \"flag\"]\n",
        "encoder = LabelEncoder()\n",
        "for col in categorical_cols:\n",
        "    df[col] = encoder.fit_transform(df[col])\n",
        "\n",
        "df[\"class\"] = df[\"class\"].apply(lambda x: 0 if x == \"normal\" else 1)\n",
        "\n",
        "X = df.drop(\"class\", axis=1).values\n",
        "y = df[\"class\"].values\n",
        "\n",
        "X_train = X[:len(train_df)]\n",
        "y_train = y[:len(train_df)]\n",
        "X_train,X_val,y_train,y_val = train_test_split(X_train, y_train, test_size=0.2, random_state=42)\n",
        "X_test = X[len(train_df):]\n",
        "y_test = y[len(train_df):]\n",
        "\n",
        "scaler = StandardScaler()\n",
        "X_train = scaler.fit_transform(X_train)\n",
        "X_val = scaler.transform(X_val)\n",
        "X_test = scaler.transform(X_test)\n",
        "\n",
        "\n",
        "print(f\"Training set: {X_train.shape[0]} samples\")\n",
        "print(f\"Validation set: {X_val.shape[0]} samples\")\n",
        "print(f\"Testing set: {X_test.shape[0]} samples\")\n"
      ]
    },
    {
      "cell_type": "markdown",
      "metadata": {
        "id": "ehJ692zt6527"
      },
      "source": [
        "SVM Classifier Implementation"
      ]
    },
    {
      "cell_type": "code",
      "execution_count": 2,
      "metadata": {
        "id": "YIwOe7cj66P4"
      },
      "outputs": [],
      "source": [
        "class SVM:\n",
        "    def __init__(self, learning_rate=0.001, lambda_param=0.01, epochs=1000):\n",
        "        self.lr = learning_rate\n",
        "        self.lambda_param = lambda_param\n",
        "        self.epochs = epochs\n",
        "\n",
        "    def fit(self, X, y):\n",
        "        n_samples, n_features = X.shape\n",
        "        y = np.array(y)  # Add this line\n",
        "        y_ = np.where(y <= 0, -1, 1)\n",
        "\n",
        "\n",
        "        self.w = np.zeros(n_features)\n",
        "        self.b = 0\n",
        "\n",
        "        for _ in tqdm(range(self.epochs), desc=\"Training Progress\"):\n",
        "            for idx, x_i in enumerate(X):\n",
        "            # Margin condition: if the sample is correctly classified and outside the margin\n",
        "                cndn = y_[idx] * (np.dot(x_i, self.w) - self.b) >= 1\n",
        "\n",
        "                if cndn:\n",
        "                # Apply L2 regularization if correctly classified and outside margin\n",
        "                  self.w -= self.lr * (2 * self.lambda_param * self.w)\n",
        "                else:\n",
        "                  # Else if it is within margin or misclassified, update both weights and bias\n",
        "                  # (gradient step considers hinge loss and regularization)\n",
        "                  self.w -= self.lr * (2 * self.lambda_param * self.w - np.dot(x_i, y_[idx]))\n",
        "                  self.b -= self.lr * y_[idx]  # Adjusting bias\n",
        "\n",
        "\n",
        "    def predict(self, X):\n",
        "        approx = np.dot(X, self.w) - self.b\n",
        "        return np.where(approx >= 0, 1, 0)\n"
      ]
    },
    {
      "cell_type": "markdown",
      "metadata": {
        "id": "S51g81IG7A_U"
      },
      "source": [
        "Training and Evaluating the SVM Model"
      ]
    },
    {
      "cell_type": "code",
      "execution_count": 3,
      "metadata": {
        "colab": {
          "base_uri": "https://localhost:8080/"
        },
        "id": "npK7-UpF7BTD",
        "outputId": "ac80ecff-695f-434d-c2c6-2c596af23820"
      },
      "outputs": [
        {
          "name": "stderr",
          "output_type": "stream",
          "text": [
            "Training Progress: 100%|██████████| 10/10 [00:03<00:00,  3.07it/s]"
          ]
        },
        {
          "name": "stdout",
          "output_type": "stream",
          "text": [
            "SVM Model Accuracy: 85.65%\n",
            "Precision: 0.9298\n",
            "Recall: 0.8091\n",
            "F1-score: 0.8652\n",
            "Confusion Matrix:\n"
          ]
        },
        {
          "name": "stderr",
          "output_type": "stream",
          "text": [
            "\n"
          ]
        },
        {
          "data": {
            "image/png": "[encoded data removed]",
            "text/plain": [
              "<Figure size 640x480 with 2 Axes>"
            ]
          },
          "metadata": {},
          "output_type": "display_data"
        }
      ],
      "source": [
        "from sklearn.metrics import precision_score, recall_score, f1_score, confusion_matrix\n",
        "import matplotlib.pyplot as plt\n",
        "import seaborn as sns\n",
        "\n",
        "# Initialize and train SVM model\n",
        "svm_classifier = SVM(learning_rate=0.001, lambda_param=0.01, epochs=10)\n",
        "svm_classifier.fit(X_train, y_train)\n",
        "\n",
        "# Predict and check accuracy on test data\n",
        "y_pred_svm = svm_classifier.predict(X_test)\n",
        "accuracy_svm = np.mean(y_pred_svm == y_test) * 100\n",
        "print(f\"SVM Model Accuracy: {accuracy_svm:.2f}%\")\n",
        "\n",
        "# Evaluate performance metrics\n",
        "precision_svm = precision_score(y_test, y_pred_svm)\n",
        "recall_svm = recall_score(y_test, y_pred_svm)\n",
        "f1_svm = f1_score(y_test, y_pred_svm)\n",
        "conf_matrix_svm = confusion_matrix(y_test, y_pred_svm)\n",
        "\n",
        "# Print results\n",
        "print(f\"Precision: {precision_svm:.4f}\")\n",
        "print(f\"Recall: {recall_svm:.4f}\")\n",
        "print(f\"F1-score: {f1_svm:.4f}\")\n",
        "print(\"Confusion Matrix:\")\n",
        "cm = confusion_matrix(y_test, y_pred_svm)\n",
        "title='Scratch SVM implementation on NSL-KDD'\n",
        "#plt.figure(figsize=(5, 4))\n",
        "sns.heatmap(cm, annot=True, fmt=\"d\", cmap=\"Blues\", xticklabels=[\"Normal\", \"Attack\"], yticklabels=[\"Normal\", \"Attack\"])\n",
        "plt.xlabel(\"Predicted\")\n",
        "plt.ylabel(\"Actual\")\n",
        "plt.title(title)\n",
        "plt.show()"
      ]
    },
    {
      "cell_type": "code",
      "execution_count": 4,
      "metadata": {},
      "outputs": [],
      "source": [
        "def parameter_tuning(X_train, X_val, y_train, y_val):\n",
        "    best_score = 0\n",
        "    best_params = {}\n",
        "\n",
        "    for lr in [0.1, 0.01, 0.001]:\n",
        "        for lam in [0.1, 0.01, 0.001]:\n",
        "            for epochs in [10, 50]:\n",
        "                model = SVM(learning_rate=lr, lambda_param=lam, epochs=epochs)\n",
        "                model.fit(X_train, y_train)\n",
        "                preds = model.predict(X_val)\n",
        "                acc = np.mean(preds == y_val)\n",
        "                if acc > best_score:\n",
        "                    best_score = acc\n",
        "                    best_params = {\n",
        "                        \"learning_rate\": lr,\n",
        "                        \"lambda_param\": lam,\n",
        "                        \"epochs\": epochs\n",
        "                    }\n",
        "    return best_params\n",
        "\n",
        "\n",
        "# # Convert to DataFrame\n",
        "# results_df = pd.DataFrame(results)\n",
        "\n",
        "# # Plot: F1 Score Heatmap for fixed epoch\n",
        "# epoch_val = 10\n",
        "# subset = results_df[results_df[\"epochs\"] == epoch_val]\n",
        "# pivot_f1 = subset.pivot(index=\"lambda_param\", columns=\"learning_rate\", values=\"f1_score\")\n",
        "\n",
        "# plt.figure(figsize=(8, 6))\n",
        "# sns.heatmap(pivot_f1, annot=True, fmt=\".3f\", cmap=\"YlGnBu\")\n",
        "# plt.title(f\"F1 Score Heatmap (Epochs = {epoch_val})\")\n",
        "# plt.xlabel(\"Learning Rate\")\n",
        "# plt.ylabel(\"Lambda (Regularization)\")\n",
        "# plt.show()\n",
        "\n",
        "# # Plot: Accuracy vs Learning Rate\n",
        "# plt.figure(figsize=(6,4))\n",
        "# sns.lineplot(data=results_df, x=\"learning_rate\", y=\"f1_score\", marker=\"o\", hue=\"epochs\", palette=\"tab10\")\n",
        "# plt.title(\"f1-score vs Learning Rate\")\n",
        "# plt.xscale(\"log\")\n",
        "# plt.grid(True)\n",
        "# plt.show()\n",
        "\n",
        "# # Plot: Accuracy vs Lambda\n",
        "# plt.figure(figsize=(6,4))\n",
        "# sns.lineplot(data=results_df, x=\"lambda_param\", y=\"f1_score\", marker=\"o\", hue=\"epochs\", palette=\"tab10\")\n",
        "# plt.title(\"f1-score vs Lambda\")\n",
        "# plt.xscale(\"log\")\n",
        "# plt.grid(True)\n",
        "# plt.show()\n",
        "\n",
        "# # Plot: Accuracy vs Epochs\n",
        "# plt.figure(figsize=(6,4))\n",
        "# sns.lineplot(data=results_df, x=\"epochs\", y=\"f1_score\", marker=\"o\", hue=\"learning_rate\", palette=\"tab10\")\n",
        "# plt.title(\"f1-score vs Epochs\")\n",
        "# plt.grid(True)\n",
        "# plt.show()"
      ]
    },
    {
      "cell_type": "code",
      "execution_count": 5,
      "metadata": {},
      "outputs": [
        {
          "name": "stderr",
          "output_type": "stream",
          "text": [
            "Training Progress: 100%|██████████| 10/10 [00:03<00:00,  2.78it/s]\n",
            "Training Progress: 100%|██████████| 50/50 [00:16<00:00,  3.00it/s]\n",
            "Training Progress: 100%|██████████| 10/10 [00:02<00:00,  3.43it/s]\n",
            "Training Progress: 100%|██████████| 50/50 [00:15<00:00,  3.32it/s]\n",
            "Training Progress: 100%|██████████| 10/10 [00:03<00:00,  3.28it/s]\n",
            "Training Progress: 100%|██████████| 50/50 [00:15<00:00,  3.29it/s]\n",
            "Training Progress: 100%|██████████| 10/10 [00:03<00:00,  2.91it/s]\n",
            "Training Progress: 100%|██████████| 50/50 [00:17<00:00,  2.90it/s]\n",
            "Training Progress: 100%|██████████| 10/10 [00:03<00:00,  3.20it/s]\n",
            "Training Progress: 100%|██████████| 50/50 [00:15<00:00,  3.19it/s]\n",
            "Training Progress: 100%|██████████| 10/10 [00:02<00:00,  3.34it/s]\n",
            "Training Progress: 100%|██████████| 50/50 [00:15<00:00,  3.31it/s]\n",
            "Training Progress: 100%|██████████| 10/10 [00:03<00:00,  2.91it/s]\n",
            "Training Progress: 100%|██████████| 50/50 [00:17<00:00,  2.86it/s]\n",
            "Training Progress: 100%|██████████| 10/10 [00:03<00:00,  3.09it/s]\n",
            "Training Progress: 100%|██████████| 50/50 [00:16<00:00,  3.12it/s]\n",
            "Training Progress: 100%|██████████| 10/10 [00:03<00:00,  3.32it/s]\n",
            "Training Progress: 100%|██████████| 50/50 [00:15<00:00,  3.28it/s]\n",
            "Training Progress: 100%|██████████| 10/10 [00:03<00:00,  3.28it/s]"
          ]
        },
        {
          "name": "stdout",
          "output_type": "stream",
          "text": [
            "SVM Model Accuracy: 84.42%\n"
          ]
        },
        {
          "name": "stderr",
          "output_type": "stream",
          "text": [
            "\n"
          ]
        }
      ],
      "source": [
        "best = parameter_tuning(X_train,X_val,y_train,y_val)\n",
        "\n",
        "svm_classifier = SVM(**best)\n",
        "svm_classifier.fit(X_train, y_train)\n",
        "\n",
        "# Predict and check accuracy on test data\n",
        "y_pred_svm = svm_classifier.predict(X_test)\n",
        "accuracy_svm = np.mean(y_pred_svm == y_test) * 100\n",
        "\n",
        "print(f\"SVM Model Accuracy: {accuracy_svm:.2f}%\")\n",
        "\n",
        "# Evaluate performance metrics\n",
        "precision_svm = precision_score(y_test, y_pred_svm)\n",
        "recall_svm = recall_score(y_test, y_pred_svm)\n",
        "f1_svm = f1_score(y_test, y_pred_svm)\n",
        "conf_matrix_svm = confusion_matrix(y_test, y_pred_svm)"
      ]
    },
    {
      "cell_type": "markdown",
      "metadata": {
        "id": "s7hLB-s8-NRD"
      },
      "source": [
        "Scikit learn SVM implementation"
      ]
    },
    {
      "cell_type": "code",
      "execution_count": 6,
      "metadata": {
        "colab": {
          "base_uri": "https://localhost:8080/"
        },
        "id": "SCELjOkx-RWu",
        "outputId": "f0eb51a0-da9c-4f9b-c66e-06d6174bf3c9"
      },
      "outputs": [
        {
          "name": "stdout",
          "output_type": "stream",
          "text": [
            "Scikit-learn SVM Accuracy: 84.71%\n",
            "Precision: 0.9263\n",
            "Recall: 0.7947\n",
            "F1-score: 0.8555\n",
            "Confusion Matrix:\n"
          ]
        },
        {
          "data": {
            "image/png": "[encoded data removed]",
            "text/plain": [
              "<Figure size 640x480 with 2 Axes>"
            ]
          },
          "metadata": {},
          "output_type": "display_data"
        }
      ],
      "source": [
        "from sklearn.svm import SVC\n",
        "\n",
        "svm_sklearn = SVC(kernel='linear')\n",
        "svm_sklearn.fit(X_train, y_train)\n",
        "y_pred_sklearn = svm_sklearn.predict(X_test)\n",
        "\n",
        "accuracy_sklearn = np.mean(y_pred_sklearn == y_test) * 100\n",
        "print(f\"Scikit-learn SVM Accuracy: {accuracy_sklearn:.2f}%\")\n",
        "\n",
        "# Evaluate performance metrics\n",
        "precision_svm = precision_score(y_test, y_pred_sklearn)\n",
        "recall_svm = recall_score(y_test, y_pred_sklearn)\n",
        "f1_svm = f1_score(y_test, y_pred_sklearn)\n",
        "conf_matrix_svm = confusion_matrix(y_test, y_pred_sklearn)\n",
        "\n",
        "# Print results\n",
        "print(f\"Precision: {precision_svm:.4f}\")\n",
        "print(f\"Recall: {recall_svm:.4f}\")\n",
        "print(f\"F1-score: {f1_svm:.4f}\")\n",
        "print(\"Confusion Matrix:\")\n",
        "cm = confusion_matrix(y_test, y_pred_svm)\n",
        "title='Sklearn SVM implementation on NSL-KDD'\n",
        "#plt.figure(figsize=(5, 4))\n",
        "sns.heatmap(cm, annot=True, fmt=\"d\", cmap=\"Blues\", xticklabels=[\"Normal\", \"Attack\"], yticklabels=[\"Normal\", \"Attack\"])\n",
        "plt.xlabel(\"Predicted\")\n",
        "plt.ylabel(\"Actual\")\n",
        "plt.title(title)\n",
        "plt.show()\n"
      ]
    },
    {
      "cell_type": "code",
      "execution_count": 7,
      "metadata": {},
      "outputs": [],
      "source": [
        "from sklearn.model_selection import ParameterGrid\n",
        "from sklearn.svm import SVC\n",
        "from sklearn.metrics import precision_score, recall_score, f1_score, confusion_matrix\n",
        "import pandas as pd\n",
        "import seaborn as sns\n",
        "import matplotlib.pyplot as plt\n",
        "import numpy as np\n",
        "\n",
        "def bestparams(X_train,X_val,y_train,y_val):\n",
        "# Parameter Grid\n",
        " param_grid = {\n",
        "    'C': [0.1,1],\n",
        "    'kernel': ['linear', 'rbf'],\n",
        "    'gamma': ['scale']\n",
        " }\n",
        "\n",
        " results = []\n",
        " best_score = 0\n",
        " best_accuracy = 0\n",
        " best_params = None\n",
        " best_model = None\n",
        "\n",
        "#print(\"\\nStarting Grid Search...\\n\")\n",
        "\n",
        "# Loop through all combinations manually (like scratch model)\n",
        " for params in ParameterGrid(param_grid):\n",
        "    print(f\"Testing: {params}\")\n",
        "    model = SVC(**params)\n",
        "    model.fit(X_train, y_train)\n",
        "    y_pred = model.predict(X_val)\n",
        "\n",
        "    acc = np.mean(y_pred == y_val)\n",
        "    f1 = f1_score(y_val, y_pred)\n",
        "\n",
        "    results.append({\n",
        "        **params,\n",
        "        \"accuracy\": acc,\n",
        "        \"f1_score\": f1\n",
        "    })\n",
        "\n",
        "    if acc > best_accuracy:\n",
        "        best_accuracy = acc\n",
        "\n",
        "    if f1 > best_score:\n",
        "        best_score = f1\n",
        "        best_params = params\n",
        "        best_model = model\n",
        " return best_params\n",
        "\n",
        "# # Convert to DataFrame\n",
        "# results_df = pd.DataFrame(results)\n",
        "\n",
        "# # Plot: F1 Score Heatmap (for kernel='rbf')\n",
        "# subset = results_df[results_df[\"kernel\"] == 'rbf']\n",
        "# pivot_f1 = subset.pivot(index=\"C\", columns=\"gamma\", values=\"f1_score\")\n",
        "\n",
        "# plt.figure(figsize=(8, 6))\n",
        "# sns.heatmap(pivot_f1, annot=True, fmt=\".3f\", cmap=\"YlGnBu\")\n",
        "# plt.title(\"F1 Score Heatmap (Kernel = 'rbf')\")\n",
        "# plt.xlabel(\"Gamma\")\n",
        "# plt.ylabel(\"C\")\n",
        "# plt.show()\n",
        "\n",
        "# # Plot: f1-score vs C\n",
        "# plt.figure(figsize=(6, 4))\n",
        "# sns.lineplot(data=results_df, x=\"C\", y=\"f1_score\", marker=\"o\", hue=\"kernel\", palette=\"tab10\")\n",
        "# plt.title(\"f1-score vs C\")\n",
        "# plt.grid(True)\n",
        "# plt.show()\n",
        "\n",
        "# # Plot: f1-score vs Kernel\n",
        "# plt.figure(figsize=(6, 4))\n",
        "# sns.barplot(data=results_df, x=\"kernel\", y=\"f1_score\", hue=\"C\", palette=\"tab10\")\n",
        "# plt.title(\"f1-score vs Kernel\")\n",
        "# plt.grid(True)\n",
        "# plt.show()\n",
        "\n",
        "# # Plot: f1-score vs Gamma\n",
        "# plt.figure(figsize=(6, 4))\n",
        "# sns.barplot(data=results_df, x=\"gamma\", y=\"f1_score\", hue=\"kernel\", palette=\"tab10\")\n",
        "# plt.title(\"f1-score vs Gamma\")\n",
        "# plt.grid(True)\n",
        "# plt.show()\n",
        "\n",
        "# # Evaluate best model\n",
        "# y_pred_best = best_model.predict(X_test)\n",
        "# precision_svm = precision_score(y_test, y_pred_best)\n",
        "# recall_svm = recall_score(y_test, y_pred_best)\n",
        "# f1_svm = f1_score(y_test, y_pred_best)\n",
        "# conf_matrix_svm = confusion_matrix(y_test, y_pred_best)\n",
        "\n",
        "# # Print results\n",
        "# print(\"\\nBest Model Performance on Test Set:\")\n",
        "# print(f\"Precision: {precision_svm:.4f}\")\n",
        "# print(f\"Recall: {recall_svm:.4f}\")\n",
        "# print(f\"F1-score: {f1_svm:.4f}\")\n",
        "# print(\"Confusion Matrix:\")\n",
        "\n",
        "# # Plot Confusion Matrix\n",
        "# sns.heatmap(conf_matrix_svm, annot=True, fmt=\"d\", cmap=\"Blues\", \n",
        "#             xticklabels=[\"Normal\", \"Attack\"], yticklabels=[\"Normal\", \"Attack\"])\n",
        "# plt.xlabel(\"Predicted\")\n",
        "# plt.ylabel(\"Actual\")\n",
        "# plt.title(\"Best SVM Confusion Matrix\")\n",
        "# plt.show()\n"
      ]
    },
    {
      "cell_type": "code",
      "execution_count": 8,
      "metadata": {},
      "outputs": [
        {
          "name": "stdout",
          "output_type": "stream",
          "text": [
            "Testing: {'C': 0.1, 'gamma': 'scale', 'kernel': 'linear'}\n",
            "Testing: {'C': 0.1, 'gamma': 'scale', 'kernel': 'rbf'}\n",
            "Testing: {'C': 1, 'gamma': 'scale', 'kernel': 'linear'}\n",
            "Testing: {'C': 1, 'gamma': 'scale', 'kernel': 'rbf'}\n",
            "SVM Model Accuracy: 85.22%\n"
          ]
        }
      ],
      "source": [
        "from sklearn.svm import SVC\n",
        "\n",
        "best = bestparams(X_train, X_val, y_train, y_val)\n",
        "\n",
        "# Use sklearn SVC with best hyperparameters\n",
        "svm_classifier = SVC(**best)\n",
        "svm_classifier.fit(X_train, y_train)\n",
        "\n",
        "# Predict and check accuracy on test data\n",
        "y_pred_svm = svm_classifier.predict(X_test)\n",
        "accuracy_svm = np.mean(y_pred_svm == y_test) * 100\n",
        "\n",
        "print(f\"SVM Model Accuracy: {accuracy_svm:.2f}%\")\n",
        "\n",
        "# Evaluate performance metrics\n",
        "precision_svm = precision_score(y_test, y_pred_svm)\n",
        "recall_svm = recall_score(y_test, y_pred_svm)\n",
        "f1_svm = f1_score(y_test, y_pred_svm)\n",
        "conf_matrix_svm = confusion_matrix(y_test, y_pred_svm)\n"
      ]
    },
    {
      "cell_type": "markdown",
      "metadata": {},
      "source": [
        "b) KDD-Cup'99"
      ]
    },
    {
      "cell_type": "code",
      "execution_count": 9,
      "metadata": {},
      "outputs": [
        {
          "name": "stdout",
          "output_type": "stream",
          "text": [
            "(145586, 42)\n"
          ]
        }
      ],
      "source": [
        "# (a) KDD Cup '99\n",
        "\n",
        "url = \"http://kdd.ics.uci.edu/databases/kddcup99/kddcup.data_10_percent.gz\"  #KDD cup'99 dataset\n",
        "filename = \"kddcup.data_10_percent.gz\"\n",
        "urlretrieve(url, filename)\n",
        "\n",
        "#defining columns \n",
        "KDDCup_columns = [\n",
        "    \"duration\", \"protocol_type\", \"service\", \"flag\", \"src_bytes\", \"dst_bytes\",\n",
        "    \"land\", \"wrong_fragment\", \"urgent\", \"hot\", \"num_failed_logins\", \"logged_in\",\n",
        "    \"num_compromised\", \"root_shell\", \"su_attempted\", \"num_root\", \"num_file_creations\",\n",
        "    \"num_shells\", \"num_access_files\", \"num_outbound_cmds\", \"is_host_login\",\n",
        "    \"is_guest_login\", \"count\", \"srv_count\", \"serror_rate\", \"srv_serror_rate\",\n",
        "    \"rerror_rate\", \"srv_rerror_rate\", \"same_srv_rate\", \"diff_srv_rate\",\n",
        "    \"srv_diff_host_rate\", \"dst_host_count\", \"dst_host_srv_count\",\n",
        "    \"dst_host_same_srv_rate\", \"dst_host_diff_srv_rate\", \"dst_host_same_src_port_rate\",\n",
        "    \"dst_host_srv_diff_host_rate\", \"dst_host_serror_rate\", \"dst_host_srv_serror_rate\",\n",
        "    \"dst_host_rerror_rate\", \"dst_host_srv_rerror_rate\", \"label\"\n",
        "]\n",
        "\n",
        "# Loading dataset in dataframe using pandas\n",
        "df = pd.read_csv(filename, names=KDDCup_columns)\n",
        "\n",
        "#Removes duplicate rows(data cleaning)\n",
        "df = df.drop_duplicates()  \n",
        "\n",
        "print(df.shape)\n"
      ]
    },
    {
      "cell_type": "code",
      "execution_count": 10,
      "metadata": {},
      "outputs": [
        {
          "name": "stdout",
          "output_type": "stream",
          "text": [
            "{'normal.': 87832, 'neptune.': 51820, 'back.': 968, 'teardrop.': 918, 'satan.': 906, 'warezclient.': 893, 'ipsweep.': 651, 'smurf.': 641, 'portsweep.': 416, 'pod.': 206, 'nmap.': 158, 'guess_passwd.': 53, 'buffer_overflow.': 30, 'warezmaster.': 20, 'land.': 19, 'imap.': 12, 'rootkit.': 10, 'loadmodule.': 9, 'ftp_write.': 8, 'multihop.': 7, 'phf.': 4, 'perl.': 3, 'spy.': 2}\n"
          ]
        }
      ],
      "source": [
        "print(df['label'].value_counts().to_dict())  # Returns all unique labels in the dataset with their count as a \n",
        "#Clearly, we can see that this daataset is very skewed and imbalanced"
      ]
    },
    {
      "cell_type": "code",
      "execution_count": 11,
      "metadata": {},
      "outputs": [],
      "source": [
        "#Preprocessing Data\n",
        "\n",
        "# Convert categorical columns using Label Encoding (since, ML Models can only take in numerical features and not text)\n",
        "categorical_cols = [\"protocol_type\", \"service\", \"flag\"]\n",
        "encoder = LabelEncoder()\n",
        "for col in categorical_cols:\n",
        "    df[col] = encoder.fit_transform(df[col])\n",
        "\n",
        "# Converting labels to binary, ie, 0 if normal and 1 if attack\n",
        "df[\"label\"] = df[\"label\"].apply(lambda x: 0 if x == \"normal.\" else 1)\n",
        "\n",
        "X = df.drop(\"label\", axis=1).values # Extracting features\n",
        "y = df[\"label\"].values #Extracting labels\n",
        "\n",
        "# train-val-test split (60-20-20)\n",
        "X_train, X_test, y_train, y_test = train_test_split(X, y, test_size=0.4, random_state=42)\n",
        "X_test,X_val,y_test,y_val = train_test_split(X_test,y_test,test_size=0.5,random_state=42)\n",
        "\n",
        "# Normalize features\n",
        "scaler = StandardScaler()\n",
        "X_train = scaler.fit_transform(X_train)\n",
        "X_val = scaler.transform(X_val)\n",
        "X_test = scaler.transform(X_test)"
      ]
    },
    {
      "cell_type": "code",
      "execution_count": 12,
      "metadata": {},
      "outputs": [
        {
          "name": "stderr",
          "output_type": "stream",
          "text": [
            "Training Progress: 100%|██████████| 10/10 [00:02<00:00,  3.83it/s]"
          ]
        },
        {
          "name": "stdout",
          "output_type": "stream",
          "text": [
            "SVM Model Accuracy: 98.23%\n",
            "Precision: 0.9949\n",
            "Recall: 0.9604\n",
            "F1-score: 0.9773\n",
            "Confusion Matrix:\n"
          ]
        },
        {
          "name": "stderr",
          "output_type": "stream",
          "text": [
            "\n"
          ]
        },
        {
          "data": {
            "image/png": "[encoded data removed]",
            "text/plain": [
              "<Figure size 640x480 with 2 Axes>"
            ]
          },
          "metadata": {},
          "output_type": "display_data"
        }
      ],
      "source": [
        "from sklearn.metrics import precision_score, recall_score, f1_score, confusion_matrix\n",
        "import matplotlib.pyplot as plt\n",
        "import seaborn as sns\n",
        "\n",
        "# Initialize and train SVM model\n",
        "svm_classifier = SVM(learning_rate=0.001, lambda_param=0.01, epochs=10)\n",
        "svm_classifier.fit(X_train, y_train)\n",
        "\n",
        "# Predict and check accuracy on test data\n",
        "y_pred_svm = svm_classifier.predict(X_test)\n",
        "accuracy_svm = np.mean(y_pred_svm == y_test) * 100\n",
        "print(f\"SVM Model Accuracy: {accuracy_svm:.2f}%\")\n",
        "\n",
        "# Evaluate performance metrics\n",
        "precision_svm = precision_score(y_test, y_pred_svm)\n",
        "recall_svm = recall_score(y_test, y_pred_svm)\n",
        "f1_svm = f1_score(y_test, y_pred_svm)\n",
        "conf_matrix_svm = confusion_matrix(y_test, y_pred_svm)\n",
        "\n",
        "# Print results\n",
        "print(f\"Precision: {precision_svm:.4f}\")\n",
        "print(f\"Recall: {recall_svm:.4f}\")\n",
        "print(f\"F1-score: {f1_svm:.4f}\")\n",
        "print(\"Confusion Matrix:\")\n",
        "cm = confusion_matrix(y_test, y_pred_svm)\n",
        "title='Scratch SVM implementation on KDD'\n",
        "#plt.figure(figsize=(5, 4))\n",
        "sns.heatmap(cm, annot=True, fmt=\"d\", cmap=\"Blues\", xticklabels=[\"Normal\", \"Attack\"], yticklabels=[\"Normal\", \"Attack\"])\n",
        "plt.xlabel(\"Predicted\")\n",
        "plt.ylabel(\"Actual\")\n",
        "plt.title(title)\n",
        "plt.show()"
      ]
    },
    {
      "cell_type": "code",
      "execution_count": 13,
      "metadata": {},
      "outputs": [
        {
          "name": "stderr",
          "output_type": "stream",
          "text": [
            "Training Progress: 100%|██████████| 10/10 [00:02<00:00,  3.58it/s]\n",
            "Training Progress: 100%|██████████| 50/50 [00:13<00:00,  3.72it/s]\n",
            "Training Progress: 100%|██████████| 10/10 [00:02<00:00,  3.87it/s]\n",
            "Training Progress: 100%|██████████| 50/50 [00:13<00:00,  3.75it/s]\n",
            "Training Progress: 100%|██████████| 10/10 [00:02<00:00,  3.80it/s]\n",
            "Training Progress: 100%|██████████| 50/50 [00:12<00:00,  3.88it/s]\n",
            "Training Progress: 100%|██████████| 10/10 [00:02<00:00,  3.62it/s]\n",
            "Training Progress: 100%|██████████| 50/50 [00:14<00:00,  3.54it/s]\n",
            "Training Progress: 100%|██████████| 10/10 [00:02<00:00,  3.78it/s]\n",
            "Training Progress: 100%|██████████| 50/50 [00:13<00:00,  3.78it/s]\n",
            "Training Progress: 100%|██████████| 10/10 [00:02<00:00,  3.87it/s]\n",
            "Training Progress: 100%|██████████| 50/50 [00:13<00:00,  3.82it/s]\n",
            "Training Progress: 100%|██████████| 10/10 [00:02<00:00,  3.57it/s]\n",
            "Training Progress: 100%|██████████| 50/50 [00:21<00:00,  2.37it/s]\n",
            "Training Progress: 100%|██████████| 10/10 [00:03<00:00,  2.55it/s]\n",
            "Training Progress: 100%|██████████| 50/50 [00:13<00:00,  3.69it/s]\n",
            "Training Progress: 100%|██████████| 10/10 [00:02<00:00,  4.17it/s]\n",
            "Training Progress: 100%|██████████| 50/50 [00:12<00:00,  4.11it/s]\n",
            "Training Progress: 100%|██████████| 50/50 [00:13<00:00,  3.82it/s]"
          ]
        },
        {
          "name": "stdout",
          "output_type": "stream",
          "text": [
            "SVM Model Accuracy: 98.91%\n"
          ]
        },
        {
          "name": "stderr",
          "output_type": "stream",
          "text": [
            "\n"
          ]
        }
      ],
      "source": [
        "best = parameter_tuning(X_train,X_val,y_train,y_val)\n",
        "\n",
        "svm_classifier = SVM(**best)\n",
        "svm_classifier.fit(X_train, y_train)\n",
        "\n",
        "# Predict and check accuracy on test data\n",
        "y_pred_svm = svm_classifier.predict(X_test)\n",
        "accuracy_svm = np.mean(y_pred_svm == y_test) * 100\n",
        "\n",
        "print(f\"SVM Model Accuracy: {accuracy_svm:.2f}%\")\n",
        "\n",
        "# Evaluate performance metrics\n",
        "precision_svm = precision_score(y_test, y_pred_svm)\n",
        "recall_svm = recall_score(y_test, y_pred_svm)\n",
        "f1_svm = f1_score(y_test, y_pred_svm)\n",
        "conf_matrix_svm = confusion_matrix(y_test, y_pred_svm)"
      ]
    },
    {
      "cell_type": "code",
      "execution_count": 14,
      "metadata": {},
      "outputs": [
        {
          "name": "stdout",
          "output_type": "stream",
          "text": [
            "Scikit-learn SVM Accuracy: 98.99%\n",
            "Precision: 0.9885\n",
            "Recall: 0.9859\n",
            "F1-score: 0.9872\n",
            "Confusion Matrix:\n"
          ]
        },
        {
          "data": {
            "image/png": "[encoded data removed]",
            "text/plain": [
              "<Figure size 640x480 with 2 Axes>"
            ]
          },
          "metadata": {},
          "output_type": "display_data"
        }
      ],
      "source": [
        "from sklearn.svm import SVC\n",
        "\n",
        "svm_sklearn = SVC(kernel='linear')\n",
        "svm_sklearn.fit(X_train, y_train)\n",
        "y_pred_sklearn = svm_sklearn.predict(X_test)\n",
        "\n",
        "accuracy_sklearn = np.mean(y_pred_sklearn == y_test) * 100\n",
        "print(f\"Scikit-learn SVM Accuracy: {accuracy_sklearn:.2f}%\")\n",
        "\n",
        "# Evaluate performance metrics\n",
        "precision_svm = precision_score(y_test, y_pred_sklearn)\n",
        "recall_svm = recall_score(y_test, y_pred_sklearn)\n",
        "f1_svm = f1_score(y_test, y_pred_sklearn)\n",
        "conf_matrix_svm = confusion_matrix(y_test, y_pred_sklearn)\n",
        "\n",
        "# Print results\n",
        "print(f\"Precision: {precision_svm:.4f}\")\n",
        "print(f\"Recall: {recall_svm:.4f}\")\n",
        "print(f\"F1-score: {f1_svm:.4f}\")\n",
        "print(\"Confusion Matrix:\")\n",
        "cm = confusion_matrix(y_test, y_pred_svm)\n",
        "title='Sklearn SVM implementation on KDD'\n",
        "#plt.figure(figsize=(5, 4))\n",
        "sns.heatmap(cm, annot=True, fmt=\"d\", cmap=\"Blues\", xticklabels=[\"Normal\", \"Attack\"], yticklabels=[\"Normal\", \"Attack\"])\n",
        "plt.xlabel(\"Predicted\")\n",
        "plt.ylabel(\"Actual\")\n",
        "plt.title(title)\n",
        "plt.show()\n"
      ]
    },
    {
      "cell_type": "code",
      "execution_count": 15,
      "metadata": {},
      "outputs": [
        {
          "name": "stdout",
          "output_type": "stream",
          "text": [
            "Testing: {'C': 0.1, 'gamma': 'scale', 'kernel': 'linear'}\n",
            "Testing: {'C': 0.1, 'gamma': 'scale', 'kernel': 'rbf'}\n",
            "Testing: {'C': 1, 'gamma': 'scale', 'kernel': 'linear'}\n",
            "Testing: {'C': 1, 'gamma': 'scale', 'kernel': 'rbf'}\n",
            "SVM Model Accuracy: 99.74%\n",
            "F1-score : 0.9967042497831743\n"
          ]
        }
      ],
      "source": [
        "from sklearn.svm import SVC\n",
        "\n",
        "best = bestparams(X_train, X_val, y_train, y_val)\n",
        "\n",
        "# Use sklearn SVC with best hyperparameters\n",
        "svm_classifier = SVC(**best)\n",
        "svm_classifier.fit(X_train, y_train)\n",
        "\n",
        "# Predict and check accuracy on test data\n",
        "y_pred_svm = svm_classifier.predict(X_test)\n",
        "accuracy_svm = np.mean(y_pred_svm == y_test) * 100\n",
        "\n",
        "print(f\"SVM Model Accuracy: {accuracy_svm:.2f}%\")\n",
        "\n",
        "# Evaluate performance metrics\n",
        "precision_svm = precision_score(y_test, y_pred_svm)\n",
        "recall_svm = recall_score(y_test, y_pred_svm)\n",
        "f1_svm = f1_score(y_test, y_pred_svm)\n",
        "conf_matrix_svm = confusion_matrix(y_test, y_pred_svm)\n",
        "\n",
        "print(f\"F1-score : {f1_svm}\")"
      ]
    }
  ],
  "metadata": {
    "colab": {
      "provenance": []
    },
    "kernelspec": {
      "display_name": "base",
      "language": "python",
      "name": "python3"
    },
    "language_info": {
      "codemirror_mode": {
        "name": "ipython",
        "version": 3
      },
      "file_extension": ".py",
      "mimetype": "text/x-python",
      "name": "python",
      "nbconvert_exporter": "python",
      "pygments_lexer": "ipython3",
      "version": "3.12.7"
    }
  },
  "nbformat": 4,
  "nbformat_minor": 0
}
